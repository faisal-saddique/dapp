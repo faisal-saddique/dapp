{
 "cells": [
  {
   "cell_type": "code",
   "execution_count": 5,
   "metadata": {},
   "outputs": [
    {
     "name": "stdout",
     "output_type": "stream",
     "text": [
      "Total docs: 1370\n"
     ]
    }
   ],
   "source": [
    "# Import required libraries\n",
    "from langchain.document_loaders import (\n",
    "    PyMuPDFLoader,  # For loading PDF files\n",
    "    DirectoryLoader,  # For loading files from a directory\n",
    "    TextLoader,  # For loading plain text files\n",
    "    Docx2txtLoader,  # For loading DOCX files\n",
    "    UnstructuredPowerPointLoader,  # For loading PPTX files\n",
    "    UnstructuredExcelLoader  # For loading XLSX files\n",
    ")\n",
    "from langchain.schema import Document\n",
    "from langchain.document_loaders.csv_loader import CSVLoader  # For loading CSV files\n",
    "# For splitting text into smaller chunks\n",
    "from langchain.text_splitter import RecursiveCharacterTextSplitter\n",
    "# For creating a vector database for similarity search\n",
    "from langchain.vectorstores import Pinecone\n",
    "# For generating embeddings with OpenAI's embedding model\n",
    "from langchain.embeddings.openai import OpenAIEmbeddings\n",
    "import pinecone\n",
    "\n",
    "from dotenv import load_dotenv  # For loading environment variables from .env file\n",
    "import os\n",
    "\n",
    "# Load environment variables from .env file\n",
    "load_dotenv()\n",
    "\n",
    "# Replace with the name of the directory carrying your data\n",
    "data_directory = \"new_data\"\n",
    "\n",
    "pinecone.init(api_key=os.getenv(\"PINECONE_API_KEY\"),\n",
    "              environment=os.getenv(\"PINECONE_ENVIRONMENT\"))\n",
    "\n",
    "# Load your documents from different sources\n",
    "\n",
    "\n",
    "def get_documents():\n",
    "    # Create loaders for PDF, text, CSV, DOCX, PPTX, XLSX files in the specified directory\n",
    "    pdf_loader = DirectoryLoader(\n",
    "        f\"./{data_directory}\", glob=\"**/*.pdf\", loader_cls=PyMuPDFLoader)\n",
    "    txt_loader = DirectoryLoader(\n",
    "        f\"./{data_directory}\", glob=\"**/*.txt\", loader_cls=TextLoader,loader_kwargs={'autodetect_encoding': True})\n",
    "    csv_loader = DirectoryLoader(\n",
    "        f\"./{data_directory}\", glob=\"**/*.csv\", loader_cls=CSVLoader)\n",
    "    docx_loader = DirectoryLoader(\n",
    "        f\"./{data_directory}\", glob=\"**/*.docx\", loader_cls=Docx2txtLoader)\n",
    "    pptx_loader = DirectoryLoader(\n",
    "        f\"./{data_directory}\", glob=\"**/*.pptx\", loader_cls=UnstructuredPowerPointLoader)\n",
    "    xlsx_loader = DirectoryLoader(\n",
    "        f\"./{data_directory}\", glob=\"**/*.xlsx\", loader_cls=UnstructuredExcelLoader)\n",
    "\n",
    "    # Initialize the 'docs' variable\n",
    "    docs = None\n",
    "\n",
    "    # Load files using the respective loaders\n",
    "    pdf_data = pdf_loader.load()\n",
    "    txt_data = txt_loader.load()\n",
    "    csv_data = csv_loader.load()\n",
    "    docx_data = docx_loader.load()\n",
    "    pptx_data = pptx_loader.load()\n",
    "    xlsx_data = xlsx_loader.load()\n",
    "\n",
    "    # Combine all loaded data into a single list\n",
    "    docs = pdf_data + txt_data + csv_data + docx_data + pptx_data + xlsx_data\n",
    "\n",
    "    # Return all loaded data\n",
    "    return docs\n",
    "\n",
    "\n",
    "# Get the raw documents from different sources\n",
    "raw_docs = get_documents()\n",
    "\n",
    "# Split the documents into smaller chunks\n",
    "text_splitter = RecursiveCharacterTextSplitter(\n",
    "    chunk_size=1500,\n",
    "    chunk_overlap=5)\n",
    "\n",
    "docs = text_splitter.split_documents(raw_docs)\n",
    "\n",
    "print(f\"Total docs: {len(docs)}\")"
   ]
  },
  {
   "cell_type": "code",
   "execution_count": 6,
   "metadata": {},
   "outputs": [],
   "source": [
    "from doctran import Doctran\n",
    "from dotenv import load_dotenv  # For loading environment variables from .env file\n",
    "import os\n",
    "# Load environment variables from .env file\n",
    "load_dotenv()\n",
    "doctran = Doctran(openai_api_key=os.getenv(\"OPENAI_API_KEY\"))"
   ]
  },
  {
   "cell_type": "code",
   "execution_count": 7,
   "metadata": {},
   "outputs": [],
   "source": [
    "for doc in docs:\n",
    "    document = doctran.parse(content=doc.page_content)\n",
    "    transformed_document = await document.interrogate().execute()\n",
    "    doc.page_content = {\n",
    "        \"body\":doc.page_content,\n",
    "        \"QnAs\": transformed_document.extracted_properties\n",
    "    }"
   ]
  },
  {
   "cell_type": "code",
   "execution_count": 2,
   "metadata": {},
   "outputs": [],
   "source": [
    "from pinecone_text.sparse import BM25Encoder\n",
    "\n",
    "# or from pinecone_text.sparse import SpladeEncoder if you wish to work with SPLADE\n",
    "\n",
    "# use default tf-idf values\n",
    "bm25_encoder = BM25Encoder().default()"
   ]
  },
  {
   "cell_type": "code",
   "execution_count": 7,
   "metadata": {},
   "outputs": [],
   "source": [
    "from langchain.embeddings import OpenAIEmbeddings\n",
    "\n",
    "embeddings = OpenAIEmbeddings()"
   ]
  },
  {
   "cell_type": "code",
   "execution_count": 8,
   "metadata": {},
   "outputs": [
    {
     "data": {
      "application/vnd.jupyter.widget-view+json": {
       "model_id": "9bbfcb6d163d4ec2bb68d5035c696839",
       "version_major": 2,
       "version_minor": 0
      },
      "text/plain": [
       "  0%|          | 0/1370 [00:00<?, ?it/s]"
      ]
     },
     "metadata": {},
     "output_type": "display_data"
    }
   ],
   "source": [
    "corpus = [doc.page_content for doc in docs]\n",
    "\n",
    "# fit tf-idf values on your corpus\n",
    "bm25_encoder.fit(corpus)\n",
    "\n",
    "# store the values to a json file\n",
    "bm25_encoder.dump(\"bm25_values_for_ddw.json\")\n",
    "\n",
    "# load to your BM25Encoder object\n",
    "bm25_encoder = BM25Encoder().load(\"bm25_values_for_ddw.json\")"
   ]
  },
  {
   "cell_type": "code",
   "execution_count": 9,
   "metadata": {},
   "outputs": [],
   "source": [
    "from langchain.retrievers import PineconeHybridSearchRetriever\n",
    "import pinecone\n",
    "\n",
    "pinecone.init(api_key=os.getenv(\"PINECONE_API_KEY\"),\n",
    "              environment=os.getenv(\"PINECONE_ENVIRONMENT\"))\n",
    "\n",
    "index = pinecone.Index(os.getenv(\"PINECONE_INDEX\"))\n",
    "retriever = PineconeHybridSearchRetriever(\n",
    "    embeddings=embeddings, sparse_encoder=bm25_encoder, index=index\n",
    ")"
   ]
  },
  {
   "cell_type": "code",
   "execution_count": 10,
   "metadata": {},
   "outputs": [
    {
     "data": {
      "application/vnd.jupyter.widget-view+json": {
       "model_id": "389cdd2b0c9a421abbc97912bec2d010",
       "version_major": 2,
       "version_minor": 0
      },
      "text/plain": [
       "  0%|          | 0/43 [00:00<?, ?it/s]"
      ]
     },
     "metadata": {},
     "output_type": "display_data"
    }
   ],
   "source": [
    "retriever.add_texts(texts=corpus,metadatas=[doc.metadata for doc in docs])"
   ]
  }
 ],
 "metadata": {
  "kernelspec": {
   "display_name": "Python 3",
   "language": "python",
   "name": "python3"
  },
  "language_info": {
   "codemirror_mode": {
    "name": "ipython",
    "version": 3
   },
   "file_extension": ".py",
   "mimetype": "text/x-python",
   "name": "python",
   "nbconvert_exporter": "python",
   "pygments_lexer": "ipython3",
   "version": "3.11.4"
  },
  "orig_nbformat": 4
 },
 "nbformat": 4,
 "nbformat_minor": 2
}
